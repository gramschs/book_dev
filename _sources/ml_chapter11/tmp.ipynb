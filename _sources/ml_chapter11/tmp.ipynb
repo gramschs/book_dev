{
 "cells": [
  {
   "cell_type": "code",
   "execution_count": 1,
   "metadata": {},
   "outputs": [
    {
     "data": {
      "text/html": [
       "<div>\n",
       "<style scoped>\n",
       "    .dataframe tbody tr th:only-of-type {\n",
       "        vertical-align: middle;\n",
       "    }\n",
       "\n",
       "    .dataframe tbody tr th {\n",
       "        vertical-align: top;\n",
       "    }\n",
       "\n",
       "    .dataframe thead th {\n",
       "        text-align: right;\n",
       "    }\n",
       "</style>\n",
       "<table border=\"1\" class=\"dataframe\">\n",
       "  <thead>\n",
       "    <tr style=\"text-align: right;\">\n",
       "      <th></th>\n",
       "      <th>Kilometerstand [km]</th>\n",
       "      <th>Preis [EUR]</th>\n",
       "      <th>verkauft</th>\n",
       "    </tr>\n",
       "  </thead>\n",
       "  <tbody>\n",
       "    <tr>\n",
       "      <th>Auto 1</th>\n",
       "      <td>32908</td>\n",
       "      <td>15960</td>\n",
       "      <td>False</td>\n",
       "    </tr>\n",
       "    <tr>\n",
       "      <th>Auto 2</th>\n",
       "      <td>20328</td>\n",
       "      <td>20495</td>\n",
       "      <td>True</td>\n",
       "    </tr>\n",
       "    <tr>\n",
       "      <th>Auto 3</th>\n",
       "      <td>13285</td>\n",
       "      <td>17227</td>\n",
       "      <td>False</td>\n",
       "    </tr>\n",
       "    <tr>\n",
       "      <th>Auto 4</th>\n",
       "      <td>17162</td>\n",
       "      <td>17851</td>\n",
       "      <td>True</td>\n",
       "    </tr>\n",
       "    <tr>\n",
       "      <th>Auto 5</th>\n",
       "      <td>27449</td>\n",
       "      <td>5428</td>\n",
       "      <td>False</td>\n",
       "    </tr>\n",
       "    <tr>\n",
       "      <th>Auto 6</th>\n",
       "      <td>13715</td>\n",
       "      <td>22772</td>\n",
       "      <td>True</td>\n",
       "    </tr>\n",
       "    <tr>\n",
       "      <th>Auto 7</th>\n",
       "      <td>32889</td>\n",
       "      <td>13581</td>\n",
       "      <td>False</td>\n",
       "    </tr>\n",
       "    <tr>\n",
       "      <th>Auto 8</th>\n",
       "      <td>3111</td>\n",
       "      <td>16793</td>\n",
       "      <td>True</td>\n",
       "    </tr>\n",
       "    <tr>\n",
       "      <th>Auto 9</th>\n",
       "      <td>15607</td>\n",
       "      <td>23253</td>\n",
       "      <td>True</td>\n",
       "    </tr>\n",
       "    <tr>\n",
       "      <th>Auto 10</th>\n",
       "      <td>18295</td>\n",
       "      <td>11382</td>\n",
       "      <td>False</td>\n",
       "    </tr>\n",
       "  </tbody>\n",
       "</table>\n",
       "</div>"
      ],
      "text/plain": [
       "         Kilometerstand [km]  Preis [EUR]  verkauft\n",
       "Auto 1                 32908        15960     False\n",
       "Auto 2                 20328        20495      True\n",
       "Auto 3                 13285        17227     False\n",
       "Auto 4                 17162        17851      True\n",
       "Auto 5                 27449         5428     False\n",
       "Auto 6                 13715        22772      True\n",
       "Auto 7                 32889        13581     False\n",
       "Auto 8                  3111        16793      True\n",
       "Auto 9                 15607        23253      True\n",
       "Auto 10                18295        11382     False"
      ]
     },
     "execution_count": 1,
     "metadata": {},
     "output_type": "execute_result"
    }
   ],
   "source": [
    "import pandas as pd \n",
    "\n",
    "daten = pd.DataFrame({\n",
    "    'Kilometerstand [km]': [32908, 20328, 13285, 17162, 27449, 13715, 32889,  3111, 15607, 18295],\n",
    "    'Preis [EUR]': [15960, 20495, 17227, 17851, 5428, 22772, 13581, 16793, 23253, 11382],\n",
    "    'verkauft': [False, True, False, True, False, True, False, True, True, False],\n",
    "    },\n",
    "    index=['Auto 1', 'Auto 2', 'Auto 3', 'Auto 4', 'Auto 5', 'Auto 6', 'Auto 7', 'Auto 8', 'Auto 9', 'Auto 10'])\n",
    "daten.head(10)"
   ]
  },
  {
   "cell_type": "code",
   "execution_count": 2,
   "metadata": {},
   "outputs": [
    {
     "name": "stdout",
     "output_type": "stream",
     "text": [
      "1.0\n"
     ]
    }
   ],
   "source": [
    "from sklearn.tree import DecisionTreeClassifier\n",
    "\n",
    "modell = DecisionTreeClassifier()\n",
    "X = daten[['Kilometerstand [km]', 'Preis [EUR]']]\n",
    "y = daten['verkauft']\n",
    "\n",
    "modell.fit(X,y)\n",
    "score = modell.score(X,y)\n",
    "print(score)"
   ]
  },
  {
   "cell_type": "code",
   "execution_count": 8,
   "metadata": {},
   "outputs": [],
   "source": [
    "neue_autos = pd.DataFrame({\n",
    "    'Kilometerstand [km]': [7580, 11300, 20000],\n",
    "    'Preis [EUR]': [20999, 12000, 14999]\n",
    "    },\n",
    "    index=['Auto 11', 'Auto 12', 'Auto 13']) "
   ]
  },
  {
   "cell_type": "code",
   "execution_count": 9,
   "metadata": {},
   "outputs": [
    {
     "name": "stdout",
     "output_type": "stream",
     "text": [
      "[ True False False]\n"
     ]
    }
   ],
   "source": [
    "prognose = modell.predict(neue_autos)\n",
    "print(prognose)"
   ]
  }
 ],
 "metadata": {
  "kernelspec": {
   "display_name": "python311",
   "language": "python",
   "name": "python3"
  },
  "language_info": {
   "codemirror_mode": {
    "name": "ipython",
    "version": 3
   },
   "file_extension": ".py",
   "mimetype": "text/x-python",
   "name": "python",
   "nbconvert_exporter": "python",
   "pygments_lexer": "ipython3",
   "version": "3.11.0"
  }
 },
 "nbformat": 4,
 "nbformat_minor": 2
}
